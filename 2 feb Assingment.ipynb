{
 "cells": [
  {
   "cell_type": "markdown",
   "id": "536849eb-342f-45d7-b539-06d2ae105add",
   "metadata": {},
   "source": [
    "Q1.  Explain with an example each when to use a for loop and a while loop."
   ]
  },
  {
   "cell_type": "code",
   "execution_count": null,
   "id": "2156134a-2ef9-46fc-9cdf-538004e025f0",
   "metadata": {},
   "outputs": [],
   "source": [
    "Ans1.  We may use \"For loop\" when we i’ll have to run any  command with condition for many times.\n",
    "For e.g. Lets  suppose , we have a list (L) and we have to saprate all element particularly if we use L[]  function to extract element from\n",
    "list (L)\n",
    "we i'll have to run this function one by one for many times.it will be consume our large ammount of time, if we use \"For loop\" so \n",
    "we didn't need to run any code one by one . \n",
    "\n",
    "While loop = We may use \"While loop\" when we i'll have to run any command repeatatively untill the given condition become False.\n",
    "                                         \n",
    "\n",
    "        "
   ]
  },
  {
   "cell_type": "code",
   "execution_count": 1,
   "id": "1f1e1b1f-bccd-4d37-8817-019ef98f2863",
   "metadata": {},
   "outputs": [
    {
     "name": "stdout",
     "output_type": "stream",
     "text": [
      "1\n",
      "2\n",
      "3\n",
      "4\n",
      "5\n",
      "6\n",
      "7\n",
      "8\n"
     ]
    }
   ],
   "source": [
    "#for loop like this - \n",
    "L = [1,2,3,4,5,6,7,8]\n",
    "for i in L :\n",
    "    print(i) "
   ]
  },
  {
   "cell_type": "code",
   "execution_count": 1,
   "id": "6f6c909b-4305-4b66-99e5-81d53fed94b1",
   "metadata": {},
   "outputs": [
    {
     "name": "stdout",
     "output_type": "stream",
     "text": [
      "1\n",
      "2\n",
      "3\n",
      "4\n",
      "5\n",
      "6\n",
      "7\n",
      "8\n",
      "9\n",
      "10\n"
     ]
    }
   ],
   "source": [
    "  #while loop like this-\n",
    "i = 1\n",
    "while i <= 10:\n",
    "    print(i)\n",
    "    i += 1\n",
    "# Answer 1 completed"
   ]
  },
  {
   "cell_type": "markdown",
   "id": "65ede9f5-5954-438e-b3bb-a602b806996c",
   "metadata": {},
   "source": [
    "Q2.  Write a python program to print the sum and product of the first 10 natural numbers using for  and while loop."
   ]
  },
  {
   "cell_type": "code",
   "execution_count": null,
   "id": "fc2a8259-c29a-4339-9b00-872b6f468def",
   "metadata": {},
   "outputs": [],
   "source": [
    "# Answer 2\n",
    "sum = 0\n",
    "product = 1 \n",
    "for i in range(1,11):\n",
    "    sum = sum + i\n",
    "    product = product *  i\n",
    "print(\"Using for loop :\")\n",
    "print(\"Sum of 10 Natural no is: \",sum)\n",
    "print(\"Product of 10 Natural no is:\", product)"
   ]
  },
  {
   "cell_type": "code",
   "execution_count": 2,
   "id": "ec0e01c1-8458-4370-81e9-855b119bd575",
   "metadata": {},
   "outputs": [
    {
     "name": "stdout",
     "output_type": "stream",
     "text": [
      "Using while loop\n",
      "Sum of 10 natural number is : 55\n",
      "Product of 10 number is : 3628800\n"
     ]
    }
   ],
   "source": [
    "sum = 0 \n",
    "product = 1\n",
    "i = 1\n",
    "while i <= 10 :\n",
    "    sum = sum + i\n",
    "    product = product * i\n",
    "    i += 1\n",
    "print(\"Using while loop\")\n",
    "print(\"Sum of 10 natural number is :\", sum )\n",
    "print(\"Product of 10 number is :\" , product )\n",
    "# Answer 2 completed"
   ]
  },
  {
   "cell_type": "markdown",
   "id": "dedc4573-470e-46d9-8bcc-3878d4cab234",
   "metadata": {},
   "source": [
    "  \n",
    "Q3. Create a python program to compute the electricity bill for a household. \n",
    "The per-unit charges in rupees are as follows: For the first 100 units, the user will be charged Rs. 4.5 per  unit, for the next 100 units, the user will be charged Rs. 6 per unit, and for the next 100 units, the user will  be charged Rs. 10 per unit, After 300 units and above the user will be charged Rs. 20 per unit. \n",
    "You are required to take the units of electricity consumed in a month from the user as input. \n",
    "Your program must pass this test case: when the unit of electricity consumed by the user in a month is  310, the total electricity bill should be 2250. \n"
   ]
  },
  {
   "cell_type": "code",
   "execution_count": 18,
   "id": "7370185e-67f3-427c-baf2-1e00355415da",
   "metadata": {},
   "outputs": [
    {
     "name": "stdin",
     "output_type": "stream",
     "text": [
      "Please input number of units  310\n"
     ]
    },
    {
     "name": "stdout",
     "output_type": "stream",
     "text": [
      "Your Electricity Bill Ammount for this month: 2250.0\n"
     ]
    }
   ],
   "source": [
    "# Answer 3 \n",
    "unit_consumed = int(input(\"Please input number of units \"))\n",
    "if unit_consumed <= 100:\n",
    "    bill_Generates_Money = unit_consumed * 4.5 \n",
    "elif unit_consumed <=200:\n",
    "    bill_Generates_Money = 100*4.5+( unit_consumed -100)* 6 \n",
    "elif unit_consumed <=200:\n",
    "    bill_Generates_Money = 100*4.5+100*6+(unit_consumed - 200)* 10 \n",
    "else:\n",
    "    bill_Generates_Money = 100*4.5+100*6+100*10+(unit_consumed - 300 ) * 20\n",
    "print(\"Your Electricity Bill Ammount for this month:\",bill_Generates_Money)"
   ]
  },
  {
   "cell_type": "markdown",
   "id": "aa2e7131-d92a-4a2f-86d8-7fe6c6fa4980",
   "metadata": {},
   "source": [
    "Q4. Create a list of numbers from 1 to 100. Use for loop and while loop to calculate the cube of each  number and if the cube of that number is divisible by 4 or 5 then append that number in a list and print  that list. "
   ]
  },
  {
   "cell_type": "code",
   "execution_count": null,
   "id": "f2c345f9-f458-4f72-aaf6-c16c66e53a6e",
   "metadata": {},
   "outputs": [
    {
     "name": "stdout",
     "output_type": "stream",
     "text": [
      "64\n",
      "125\n",
      "512\n",
      "1000\n",
      "1728\n",
      "3375\n",
      "4096\n",
      "8000\n",
      "13824\n",
      "15625\n",
      "21952\n",
      "27000\n",
      "32768\n",
      "42875\n",
      "46656\n",
      "64000\n",
      "85184\n",
      "91125\n",
      "110592\n",
      "125000\n",
      "140608\n",
      "166375\n",
      "175616\n",
      "216000\n",
      "262144\n",
      "274625\n",
      "314432\n",
      "343000\n",
      "373248\n",
      "421875\n",
      "438976\n",
      "512000\n",
      "592704\n",
      "614125\n",
      "681472\n",
      "729000\n",
      "778688\n",
      "857375\n",
      "884736\n"
     ]
    },
    {
     "data": {
      "text/plain": [
       "[4,\n",
       " 5,\n",
       " 8,\n",
       " 10,\n",
       " 12,\n",
       " 15,\n",
       " 16,\n",
       " 20,\n",
       " 24,\n",
       " 25,\n",
       " 28,\n",
       " 30,\n",
       " 32,\n",
       " 35,\n",
       " 36,\n",
       " 40,\n",
       " 44,\n",
       " 45,\n",
       " 48,\n",
       " 50,\n",
       " 52,\n",
       " 55,\n",
       " 56,\n",
       " 60,\n",
       " 64,\n",
       " 65,\n",
       " 68,\n",
       " 70,\n",
       " 72,\n",
       " 75,\n",
       " 76,\n",
       " 80,\n",
       " 84,\n",
       " 85,\n",
       " 88,\n",
       " 90,\n",
       " 92,\n",
       " 95,\n",
       " 96]"
      ]
     },
     "execution_count": 24,
     "metadata": {},
     "output_type": "execute_result"
    }
   ],
   "source": [
    "# Answer 4\n",
    "l = [] \n",
    "m = []\n",
    "for i in range(1,100):\n",
    "        if i % 4 == 0 or i %5==0 :\n",
    "            l.append(i)\n",
    "            m.append(i)\n",
    "            \n",
    "            print(i**3)\n",
    "l "
   ]
  },
  {
   "cell_type": "code",
   "execution_count": 25,
   "id": "f01572b8-82b9-44f0-8a48-45dda47c639c",
   "metadata": {},
   "outputs": [
    {
     "data": {
      "text/plain": [
       "[4,\n",
       " 5,\n",
       " 8,\n",
       " 10,\n",
       " 12,\n",
       " 15,\n",
       " 16,\n",
       " 20,\n",
       " 24,\n",
       " 25,\n",
       " 28,\n",
       " 30,\n",
       " 32,\n",
       " 35,\n",
       " 36,\n",
       " 40,\n",
       " 44,\n",
       " 45,\n",
       " 48,\n",
       " 50,\n",
       " 52,\n",
       " 55,\n",
       " 56,\n",
       " 60,\n",
       " 64,\n",
       " 65,\n",
       " 68,\n",
       " 70,\n",
       " 72,\n",
       " 75,\n",
       " 76,\n",
       " 80,\n",
       " 84,\n",
       " 85,\n",
       " 88,\n",
       " 90,\n",
       " 92,\n",
       " 95,\n",
       " 96]"
      ]
     },
     "execution_count": 25,
     "metadata": {},
     "output_type": "execute_result"
    }
   ],
   "source": [
    "m # Answer 4 completed"
   ]
  },
  {
   "cell_type": "markdown",
   "id": "2ae8690a-2e28-442f-ba68-2fc9ce310ee6",
   "metadata": {},
   "source": [
    "Q5.  Write a program to filter count vowels in the below-given string. \n",
    "string = \" I want to become a data scientist \""
   ]
  },
  {
   "cell_type": "code",
   "execution_count": 7,
   "id": "acc42ae2-cd36-4b09-bfa1-87c2403b37ca",
   "metadata": {},
   "outputs": [
    {
     "name": "stdout",
     "output_type": "stream",
     "text": [
      "I\n",
      "a\n",
      "o\n",
      "e\n",
      "o\n",
      "e\n",
      "a\n",
      "a\n",
      "a\n",
      "i\n",
      "e\n",
      "i\n",
      "Total numbers in the string: 12\n"
     ]
    }
   ],
   "source": [
    "# Answer 5 \n",
    "string = \" I want to become a data scientist \"\n",
    "vowels = \"aeiouAEIOU\"\n",
    "count = 0 \n",
    "for char in string:\n",
    "    if char in vowels:\n",
    "        count+=1\n",
    "        print(char)\n",
    "print(\"Total numbers in the string:\", count)\n",
    "# Answer 5 is completed "
   ]
  },
  {
   "cell_type": "code",
   "execution_count": null,
   "id": "6b89e310-89dd-4e36-9180-8a6cb9544dc9",
   "metadata": {},
   "outputs": [],
   "source": []
  },
  {
   "cell_type": "code",
   "execution_count": null,
   "id": "66d60b8c-1a41-4f45-8241-67b757a57a01",
   "metadata": {},
   "outputs": [],
   "source": []
  },
  {
   "cell_type": "code",
   "execution_count": null,
   "id": "a50f9380-b2fb-4351-87b8-af97cbc6f975",
   "metadata": {},
   "outputs": [],
   "source": []
  },
  {
   "cell_type": "code",
   "execution_count": null,
   "id": "8edfa44f-e62c-4a23-93b3-0277b1aafba7",
   "metadata": {},
   "outputs": [],
   "source": []
  },
  {
   "cell_type": "code",
   "execution_count": null,
   "id": "be85bf2e-16bd-4e76-954e-643a72066bf6",
   "metadata": {},
   "outputs": [],
   "source": []
  },
  {
   "cell_type": "code",
   "execution_count": null,
   "id": "b8fbb80d-16d1-458a-84e9-b4a7f6a97848",
   "metadata": {},
   "outputs": [],
   "source": []
  },
  {
   "cell_type": "code",
   "execution_count": null,
   "id": "de0651af-763b-4a79-8d23-3e876da55955",
   "metadata": {},
   "outputs": [],
   "source": []
  },
  {
   "cell_type": "code",
   "execution_count": null,
   "id": "d8e148d5-d2bf-4224-b77c-886b8ec329f8",
   "metadata": {},
   "outputs": [],
   "source": []
  },
  {
   "cell_type": "code",
   "execution_count": null,
   "id": "78b5f5a6-e492-4e16-b4bf-ca7b343cce59",
   "metadata": {},
   "outputs": [],
   "source": []
  },
  {
   "cell_type": "code",
   "execution_count": null,
   "id": "b93c2403-441a-4768-ab2a-eeb6b8e88031",
   "metadata": {},
   "outputs": [],
   "source": []
  },
  {
   "cell_type": "code",
   "execution_count": null,
   "id": "2d3b264b-6916-4972-ab62-d106a4145b6b",
   "metadata": {},
   "outputs": [],
   "source": []
  },
  {
   "cell_type": "code",
   "execution_count": null,
   "id": "5f34c5ba-46e1-480a-a94e-f2fa32177f90",
   "metadata": {},
   "outputs": [],
   "source": []
  },
  {
   "cell_type": "code",
   "execution_count": null,
   "id": "025acc66-9fad-4722-b577-551d8c5a8e7b",
   "metadata": {},
   "outputs": [],
   "source": []
  },
  {
   "cell_type": "code",
   "execution_count": null,
   "id": "7a28dc63-ec8c-404d-b05d-f5d13fc1c4ca",
   "metadata": {},
   "outputs": [],
   "source": []
  },
  {
   "cell_type": "code",
   "execution_count": null,
   "id": "14caea39-3538-4c92-baa1-02f64f085139",
   "metadata": {},
   "outputs": [],
   "source": []
  },
  {
   "cell_type": "code",
   "execution_count": null,
   "id": "52fcb004-169c-4c8e-b16d-9e1318bb1f09",
   "metadata": {},
   "outputs": [],
   "source": []
  },
  {
   "cell_type": "code",
   "execution_count": null,
   "id": "6eb168e7-0ff5-4a82-9429-10521f58dd31",
   "metadata": {},
   "outputs": [],
   "source": []
  },
  {
   "cell_type": "code",
   "execution_count": null,
   "id": "c57fbe7b-898a-4fe5-85c4-f7a1895d57a9",
   "metadata": {},
   "outputs": [],
   "source": []
  },
  {
   "cell_type": "code",
   "execution_count": null,
   "id": "ad1a0b30-b9df-4eb8-b205-b3c9009c7b59",
   "metadata": {},
   "outputs": [],
   "source": []
  },
  {
   "cell_type": "code",
   "execution_count": null,
   "id": "af1b2c58-132c-4ded-8646-77a9df1694ff",
   "metadata": {},
   "outputs": [],
   "source": []
  },
  {
   "cell_type": "code",
   "execution_count": null,
   "id": "294c7d69-3402-4806-95e2-263455d37bd1",
   "metadata": {},
   "outputs": [],
   "source": []
  },
  {
   "cell_type": "code",
   "execution_count": null,
   "id": "2cebd658-3804-4d9a-afc7-f98e028761c1",
   "metadata": {},
   "outputs": [],
   "source": []
  },
  {
   "cell_type": "code",
   "execution_count": null,
   "id": "da5681a2-7f0f-4a23-8dea-b697b2c18900",
   "metadata": {},
   "outputs": [],
   "source": []
  },
  {
   "cell_type": "code",
   "execution_count": null,
   "id": "007c9b08-217e-4ffb-b5cf-45bdb2faec60",
   "metadata": {},
   "outputs": [],
   "source": []
  },
  {
   "cell_type": "code",
   "execution_count": null,
   "id": "4dabaecd-59fa-4e0e-b1fe-71ebfb40dd79",
   "metadata": {},
   "outputs": [],
   "source": []
  },
  {
   "cell_type": "code",
   "execution_count": null,
   "id": "f0d75458-512f-4a66-bd40-8d659a6d7c45",
   "metadata": {},
   "outputs": [],
   "source": []
  },
  {
   "cell_type": "code",
   "execution_count": null,
   "id": "3e46ea51-f396-4211-ad24-39fcd06a5220",
   "metadata": {},
   "outputs": [],
   "source": []
  },
  {
   "cell_type": "code",
   "execution_count": null,
   "id": "244d019d-db10-4c91-a998-b2df242493d5",
   "metadata": {},
   "outputs": [],
   "source": []
  },
  {
   "cell_type": "code",
   "execution_count": null,
   "id": "82e69211-6773-48f7-b1f2-9fec68b58fb6",
   "metadata": {},
   "outputs": [],
   "source": []
  },
  {
   "cell_type": "code",
   "execution_count": null,
   "id": "5c7d5a7a-2e51-49ea-9bac-16286f870d83",
   "metadata": {},
   "outputs": [],
   "source": []
  },
  {
   "cell_type": "code",
   "execution_count": null,
   "id": "e5155aef-9de4-4d2f-966a-b52d1d497a69",
   "metadata": {},
   "outputs": [],
   "source": []
  },
  {
   "cell_type": "code",
   "execution_count": null,
   "id": "d514db59-5774-4a9b-9de1-0843239b7acb",
   "metadata": {},
   "outputs": [],
   "source": []
  },
  {
   "cell_type": "code",
   "execution_count": null,
   "id": "ae9e5512-dffa-4a85-a6ea-9839ad8d76f6",
   "metadata": {},
   "outputs": [],
   "source": []
  },
  {
   "cell_type": "code",
   "execution_count": null,
   "id": "221ab3f3-c52f-4c7b-aa8d-0788594d8431",
   "metadata": {},
   "outputs": [],
   "source": []
  },
  {
   "cell_type": "code",
   "execution_count": null,
   "id": "92ee4c46-7874-48c4-83fc-b60bf9d65995",
   "metadata": {},
   "outputs": [],
   "source": []
  },
  {
   "cell_type": "code",
   "execution_count": null,
   "id": "a4f2237b-f7a5-4182-8b4b-74ddfe08afc0",
   "metadata": {},
   "outputs": [],
   "source": []
  },
  {
   "cell_type": "code",
   "execution_count": null,
   "id": "17ed7c01-6fe7-492d-bdd8-0ea8b9a21763",
   "metadata": {},
   "outputs": [],
   "source": []
  },
  {
   "cell_type": "code",
   "execution_count": null,
   "id": "6960ad73-5de6-4bb9-b372-b5c56bdead1c",
   "metadata": {},
   "outputs": [],
   "source": []
  },
  {
   "cell_type": "code",
   "execution_count": null,
   "id": "b6a4d6b0-33a5-4872-b9f9-82950b954c69",
   "metadata": {},
   "outputs": [],
   "source": []
  },
  {
   "cell_type": "code",
   "execution_count": null,
   "id": "bb483603-17da-4295-a765-74fdb57c4042",
   "metadata": {},
   "outputs": [],
   "source": []
  },
  {
   "cell_type": "code",
   "execution_count": null,
   "id": "063276cc-3859-4d87-99be-c3c3fcfea83a",
   "metadata": {},
   "outputs": [],
   "source": []
  },
  {
   "cell_type": "code",
   "execution_count": null,
   "id": "9bf0f579-dbd6-4901-aaa9-b83215e62487",
   "metadata": {},
   "outputs": [],
   "source": []
  },
  {
   "cell_type": "code",
   "execution_count": null,
   "id": "c04a54f4-81a4-40c1-86e9-607efcdf8df5",
   "metadata": {},
   "outputs": [],
   "source": []
  },
  {
   "cell_type": "code",
   "execution_count": null,
   "id": "08f3bcda-ce19-4313-8837-50a1f08e2321",
   "metadata": {},
   "outputs": [],
   "source": []
  },
  {
   "cell_type": "code",
   "execution_count": null,
   "id": "a6d4dce0-a181-48da-bee8-1c36c354eb21",
   "metadata": {},
   "outputs": [],
   "source": []
  },
  {
   "cell_type": "code",
   "execution_count": 5,
   "id": "26feebd3-1b7b-4e40-adeb-cdcc724bcf37",
   "metadata": {},
   "outputs": [
    {
     "name": "stdout",
     "output_type": "stream",
     "text": [
      "The reversed numbers are : 6 5 4 3 2 1 0 "
     ]
    }
   ],
   "source": [
    "N = 6\n",
    " \n",
    "# using reversed() to perform the back iteration\n",
    "print (\"The reversed numbers are : \", end = \"\")\n",
    "for num in reversed(range(N + 1)) :\n",
    "    print(num, end = \" \")"
   ]
  },
  {
   "cell_type": "code",
   "execution_count": null,
   "id": "25aebc99-e2a7-4324-b244-0a7971fd6f95",
   "metadata": {},
   "outputs": [],
   "source": []
  }
 ],
 "metadata": {
  "kernelspec": {
   "display_name": "Python 3 (ipykernel)",
   "language": "python",
   "name": "python3"
  },
  "language_info": {
   "codemirror_mode": {
    "name": "ipython",
    "version": 3
   },
   "file_extension": ".py",
   "mimetype": "text/x-python",
   "name": "python",
   "nbconvert_exporter": "python",
   "pygments_lexer": "ipython3",
   "version": "3.10.8"
  }
 },
 "nbformat": 4,
 "nbformat_minor": 5
}
